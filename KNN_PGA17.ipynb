{
 "cells": [
  {
   "cell_type": "code",
   "execution_count": 9,
   "metadata": {},
   "outputs": [],
   "source": [
    "from pydataset import data\n",
    "df = data('iris')\n",
    "import pandas as pd"
   ]
  },
  {
   "cell_type": "code",
   "execution_count": 10,
   "metadata": {},
   "outputs": [],
   "source": [
    "from sklearn.model_selection import train_test_split\n",
    "from sklearn.preprocessing import StandardScaler\n",
    "from sklearn.neighbors import KNeighborsClassifier"
   ]
  },
  {
   "cell_type": "code",
   "execution_count": 12,
   "metadata": {},
   "outputs": [],
   "source": [
    "x = df.iloc[:,:-1]\n",
    "y = df.iloc[:,-1]\n",
    "x_train, x_test, y_train,y_test = train_test_split(x,y, test_size=0.3,\n",
    "                                                  random_state=0)"
   ]
  },
  {
   "cell_type": "code",
   "execution_count": 14,
   "metadata": {},
   "outputs": [],
   "source": [
    "sc = StandardScaler()\n",
    "sc.fit(x_train)\n",
    "train_scale = sc.transform(x_train)\n",
    "test_scale = sc.transform(x_test)"
   ]
  },
  {
   "cell_type": "code",
   "execution_count": 15,
   "metadata": {},
   "outputs": [],
   "source": [
    "train_scale = pd.DataFrame(data=train_scale, columns=x_train.columns)\n",
    "test_scale = pd.DataFrame(data=test_scale, columns=x_test.columns)"
   ]
  },
  {
   "cell_type": "code",
   "execution_count": 17,
   "metadata": {},
   "outputs": [],
   "source": [
    "knn_model = KNeighborsClassifier()"
   ]
  },
  {
   "cell_type": "code",
   "execution_count": 18,
   "metadata": {},
   "outputs": [
    {
     "data": {
      "text/plain": [
       "KNeighborsClassifier()"
      ]
     },
     "execution_count": 18,
     "metadata": {},
     "output_type": "execute_result"
    }
   ],
   "source": [
    "knn_model.fit(train_scale, y_train)"
   ]
  },
  {
   "cell_type": "code",
   "execution_count": 19,
   "metadata": {},
   "outputs": [],
   "source": [
    "pred_train = knn_model.predict(train_scale)\n",
    "pred_test = knn_model.predict(test_scale)"
   ]
  },
  {
   "cell_type": "code",
   "execution_count": 20,
   "metadata": {},
   "outputs": [],
   "source": [
    "from sklearn.metrics import accuracy_score"
   ]
  },
  {
   "cell_type": "code",
   "execution_count": 21,
   "metadata": {},
   "outputs": [
    {
     "name": "stdout",
     "output_type": "stream",
     "text": [
      "Accuracy of Train Data:  0.9714285714285714\n",
      "Accuracy of Test Data:  0.9777777777777777\n"
     ]
    }
   ],
   "source": [
    "train_accu = accuracy_score(y_train, pred_train)\n",
    "test_accu = accuracy_score(y_test, pred_test)\n",
    "print('Accuracy of Train Data: ', train_accu)\n",
    "print('Accuracy of Test Data: ', test_accu)"
   ]
  },
  {
   "cell_type": "code",
   "execution_count": 22,
   "metadata": {},
   "outputs": [],
   "source": [
    "from sklearn.metrics import confusion_matrix"
   ]
  },
  {
   "cell_type": "code",
   "execution_count": 23,
   "metadata": {},
   "outputs": [
    {
     "data": {
      "text/plain": [
       "array([[34,  0,  0],\n",
       "       [ 0, 31,  1],\n",
       "       [ 0,  2, 37]], dtype=int64)"
      ]
     },
     "execution_count": 23,
     "metadata": {},
     "output_type": "execute_result"
    }
   ],
   "source": [
    "confusion_matrix(y_train, pred_train)"
   ]
  },
  {
   "cell_type": "code",
   "execution_count": 24,
   "metadata": {},
   "outputs": [
    {
     "data": {
      "text/plain": [
       "array([[16,  0,  0],\n",
       "       [ 0, 17,  1],\n",
       "       [ 0,  0, 11]], dtype=int64)"
      ]
     },
     "execution_count": 24,
     "metadata": {},
     "output_type": "execute_result"
    }
   ],
   "source": [
    "confusion_matrix(y_test, pred_test)"
   ]
  },
  {
   "cell_type": "code",
   "execution_count": 25,
   "metadata": {},
   "outputs": [
    {
     "data": {
      "text/plain": [
       "array(['setosa', 'versicolor', 'virginica'], dtype=object)"
      ]
     },
     "execution_count": 25,
     "metadata": {},
     "output_type": "execute_result"
    }
   ],
   "source": [
    "knn_model.classes_"
   ]
  },
  {
   "cell_type": "code",
   "execution_count": 26,
   "metadata": {},
   "outputs": [
    {
     "data": {
      "text/plain": [
       "'auto'"
      ]
     },
     "execution_count": 26,
     "metadata": {},
     "output_type": "execute_result"
    }
   ],
   "source": [
    "knn_model.algorithm"
   ]
  },
  {
   "cell_type": "code",
   "execution_count": null,
   "metadata": {},
   "outputs": [],
   "source": [
    "KNeighborsClassifier()"
   ]
  },
  {
   "cell_type": "code",
   "execution_count": 27,
   "metadata": {},
   "outputs": [],
   "source": [
    "algo = ['ball_tree', 'kd_tree', 'brute']"
   ]
  },
  {
   "cell_type": "code",
   "execution_count": 30,
   "metadata": {},
   "outputs": [],
   "source": [
    "train_accu = []\n",
    "test_accu = []\n",
    "for i in algo:\n",
    "    knn = KNeighborsClassifier(algorithm=i)\n",
    "    knn.fit(train_scale,y_train)\n",
    "    accu_train = knn.score(train_scale, y_train)\n",
    "    accu_test = knn.score(test_scale,y_test)\n",
    "    train_accu.append(accu_train)\n",
    "    test_accu.append(accu_test)\n",
    "    "
   ]
  },
  {
   "cell_type": "code",
   "execution_count": 31,
   "metadata": {},
   "outputs": [
    {
     "data": {
      "text/plain": [
       "[0.9714285714285714, 0.9714285714285714, 0.9714285714285714]"
      ]
     },
     "execution_count": 31,
     "metadata": {},
     "output_type": "execute_result"
    }
   ],
   "source": [
    "train_accu"
   ]
  },
  {
   "cell_type": "code",
   "execution_count": 32,
   "metadata": {},
   "outputs": [
    {
     "data": {
      "text/plain": [
       "[0.9777777777777777, 0.9777777777777777, 0.9777777777777777]"
      ]
     },
     "execution_count": 32,
     "metadata": {},
     "output_type": "execute_result"
    }
   ],
   "source": [
    "test_accu"
   ]
  },
  {
   "cell_type": "code",
   "execution_count": 33,
   "metadata": {},
   "outputs": [],
   "source": [
    "k = list(range(1,70))"
   ]
  },
  {
   "cell_type": "code",
   "execution_count": 34,
   "metadata": {},
   "outputs": [],
   "source": [
    "train_accu = []\n",
    "test_accu = []\n",
    "for i in k:\n",
    "    knn = KNeighborsClassifier(n_neighbors=i, n_jobs=-1)\n",
    "    knn.fit(train_scale,y_train)\n",
    "    accu_train = knn.score(train_scale, y_train)\n",
    "    accu_test = knn.score(test_scale,y_test)\n",
    "    train_accu.append(accu_train)\n",
    "    test_accu.append(accu_test)"
   ]
  },
  {
   "cell_type": "code",
   "execution_count": 38,
   "metadata": {},
   "outputs": [],
   "source": [
    "import plotly.express as px"
   ]
  },
  {
   "cell_type": "code",
   "execution_count": 41,
   "metadata": {},
   "outputs": [],
   "source": [
    "import matplotlib.pyplot as plt"
   ]
  },
  {
   "cell_type": "code",
   "execution_count": 44,
   "metadata": {},
   "outputs": [],
   "source": [
    "%matplotlib qt\n",
    "plt.plot(k, train_accu, label='Accuracy of Train')\n",
    "plt.plot(k, test_accu, label = 'Accuracy of Test')\n",
    "plt.legend()\n",
    "plt.xlabel('Number neighbours')\n",
    "plt.ylabel('Accuracy of the Model')\n",
    "plt.show()"
   ]
  },
  {
   "cell_type": "code",
   "execution_count": 45,
   "metadata": {},
   "outputs": [],
   "source": [
    "train_accu = []\n",
    "test_accu = []\n",
    "for i in range(5,8):\n",
    "    knn = KNeighborsClassifier(n_neighbors=i, n_jobs=-1)\n",
    "    knn.fit(train_scale,y_train)\n",
    "    accu_train = knn.score(train_scale, y_train)\n",
    "    accu_test = knn.score(test_scale,y_test)\n",
    "    train_accu.append(accu_train)\n",
    "    test_accu.append(accu_test)"
   ]
  },
  {
   "cell_type": "code",
   "execution_count": 46,
   "metadata": {},
   "outputs": [
    {
     "data": {
      "text/plain": [
       "[0.9714285714285714, 0.9809523809523809, 0.9714285714285714]"
      ]
     },
     "execution_count": 46,
     "metadata": {},
     "output_type": "execute_result"
    }
   ],
   "source": [
    "train_accu"
   ]
  },
  {
   "cell_type": "code",
   "execution_count": 47,
   "metadata": {},
   "outputs": [
    {
     "data": {
      "text/plain": [
       "[0.9777777777777777, 0.9777777777777777, 0.9777777777777777]"
      ]
     },
     "execution_count": 47,
     "metadata": {},
     "output_type": "execute_result"
    }
   ],
   "source": [
    "test_accu"
   ]
  },
  {
   "cell_type": "code",
   "execution_count": 48,
   "metadata": {},
   "outputs": [
    {
     "data": {
      "text/plain": [
       "[-0.006349206349206327, 0.0031746031746031633, -0.006349206349206327]"
      ]
     },
     "execution_count": 48,
     "metadata": {},
     "output_type": "execute_result"
    }
   ],
   "source": [
    "list(map(lambda x,y:x-y, train_accu, test_accu))"
   ]
  },
  {
   "cell_type": "code",
   "execution_count": 52,
   "metadata": {},
   "outputs": [
    {
     "data": {
      "text/plain": [
       "GridSearchCV(cv=5, estimator=KNeighborsClassifier(),\n",
       "             param_grid={'algorithm': ['ball_tree', 'kd_tree', 'brute'],\n",
       "                         'n_neighbors': [6, 7, 8]})"
      ]
     },
     "execution_count": 52,
     "metadata": {},
     "output_type": "execute_result"
    }
   ],
   "source": [
    "from sklearn.model_selection import GridSearchCV\n",
    "knncv=KNeighborsClassifier()\n",
    "param_grid={'algorithm' : ['ball_tree', 'kd_tree', 'brute'],'n_neighbors':[6,7,8]}\n",
    "grid_knn=GridSearchCV(estimator=knncv,param_grid=param_grid,cv=5)\n",
    "grid_knn.fit(train_scale,y_train)"
   ]
  },
  {
   "cell_type": "code",
   "execution_count": 53,
   "metadata": {},
   "outputs": [
    {
     "data": {
      "text/plain": [
       "{'algorithm': 'ball_tree', 'n_neighbors': 6}"
      ]
     },
     "execution_count": 53,
     "metadata": {},
     "output_type": "execute_result"
    }
   ],
   "source": [
    "grid_knn.best_params_"
   ]
  },
  {
   "cell_type": "code",
   "execution_count": 54,
   "metadata": {},
   "outputs": [],
   "source": [
    "train_error = []\n",
    "for i in range(1,70):\n",
    "    knn = KNeighborsClassifier(n_neighbors=i, n_jobs=-1)\n",
    "    knn.fit(train_scale, y_train)\n",
    "    pred_train = knn.predict(train_scale)\n",
    "    train_error.append(np.mean(pred_train != y_train))"
   ]
  },
  {
   "cell_type": "code",
   "execution_count": 55,
   "metadata": {},
   "outputs": [],
   "source": [
    "test_error = []\n",
    "for i in range(1,70):\n",
    "    knn = KNeighborsClassifier(n_neighbors=i, n_jobs=-1)\n",
    "    knn.fit(train_scale, y_train)\n",
    "    pred_test = knn.predict(test_scale)\n",
    "    test_error.append(np.mean(pred_test != y_test))"
   ]
  },
  {
   "cell_type": "code",
   "execution_count": 62,
   "metadata": {},
   "outputs": [],
   "source": [
    "plt.plot(range(1,70),train_error,color = 'red', linestyle = 'dashed',\n",
    "        marker = 'o', markerfacecolor = 'green', markersize = 5,label='Error of Train')\n",
    "plt.plot(range(1,70),test_error,color = 'blue', linestyle = 'dashed',\n",
    "        marker = 'o', markerfacecolor = 'red', markersize = 5,label='Error of Test')\n",
    "plt.legend()\n",
    "plt.title('Error Rates vs Neighbours')\n",
    "plt.xlabel('Number of Neighbours')\n",
    "plt.ylabel('Error rates for Train and Test')\n",
    "plt.show()"
   ]
  },
  {
   "cell_type": "code",
   "execution_count": 63,
   "metadata": {},
   "outputs": [],
   "source": [
    "df = data('Boston')"
   ]
  },
  {
   "cell_type": "code",
   "execution_count": 64,
   "metadata": {},
   "outputs": [],
   "source": [
    "x = df.iloc[:,:-1]\n",
    "y = df.iloc[:,-1]\n",
    "x_train, x_test, y_train,y_test = train_test_split(x,y, test_size=0.3,\n",
    "                                                  random_state=0)\n",
    "sc = StandardScaler()\n",
    "sc.fit(x_train)\n",
    "train_scale = sc.transform(x_train)\n",
    "test_scale = sc.transform(x_test)\n",
    "train_scale = pd.DataFrame(data=train_scale, columns=x_train.columns)\n",
    "test_scale = pd.DataFrame(data=test_scale, columns=x_test.columns)"
   ]
  },
  {
   "cell_type": "code",
   "execution_count": 66,
   "metadata": {},
   "outputs": [],
   "source": [
    "from sklearn.neighbors import KNeighborsRegressor"
   ]
  },
  {
   "cell_type": "code",
   "execution_count": 67,
   "metadata": {},
   "outputs": [],
   "source": [
    "knn_reg = KNeighborsRegressor()"
   ]
  },
  {
   "cell_type": "code",
   "execution_count": 68,
   "metadata": {},
   "outputs": [
    {
     "data": {
      "text/plain": [
       "KNeighborsRegressor()"
      ]
     },
     "execution_count": 68,
     "metadata": {},
     "output_type": "execute_result"
    }
   ],
   "source": [
    "knn_reg.fit(train_scale, y_train)"
   ]
  },
  {
   "cell_type": "code",
   "execution_count": null,
   "metadata": {},
   "outputs": [],
   "source": [
    "knn_reg."
   ]
  },
  {
   "cell_type": "code",
   "execution_count": 69,
   "metadata": {},
   "outputs": [],
   "source": [
    "from sklearn.metrics import mean_squared_error"
   ]
  },
  {
   "cell_type": "code",
   "execution_count": 70,
   "metadata": {},
   "outputs": [],
   "source": [
    "pred_train = knn_reg.predict(train_scale)\n",
    "pred_test = knn_reg.predict(test_scale)"
   ]
  },
  {
   "cell_type": "code",
   "execution_count": 71,
   "metadata": {},
   "outputs": [
    {
     "name": "stdout",
     "output_type": "stream",
     "text": [
      "RMSE of Train: 3.624613285431503\n",
      "RMSE of Test: 5.305116447950581\n"
     ]
    }
   ],
   "source": [
    "print('RMSE of Train:', np.sqrt(mean_squared_error(y_train, pred_train)))\n",
    "print('RMSE of Test:', np.sqrt(mean_squared_error(y_test, pred_test)))"
   ]
  },
  {
   "cell_type": "code",
   "execution_count": 76,
   "metadata": {},
   "outputs": [],
   "source": [
    "rmse_train = []\n",
    "rmse_test = []\n",
    "for i in range(1,200):\n",
    "    knn = KNeighborsRegressor(n_neighbors=i).fit(train_scale, y_train)\n",
    "    rmse_tr = np.sqrt(mean_squared_error(y_train, knn.predict(train_scale)))\n",
    "    rmse_te = np.sqrt(mean_squared_error(y_test, knn.predict(test_scale)))\n",
    "    rmse_train.append(rmse_tr)\n",
    "    rmse_test.append(rmse_te)"
   ]
  },
  {
   "cell_type": "code",
   "execution_count": 77,
   "metadata": {},
   "outputs": [],
   "source": [
    "%matplotlib qt\n",
    "plt.plot(range(1,200), rmse_train, label='RMSE of Train')\n",
    "plt.plot(range(1,200), rmse_test, label = 'RMSE of Test')\n",
    "plt.legend()\n",
    "plt.xlabel('Number neighbours')\n",
    "plt.ylabel('RMSE of the Model')\n",
    "plt.show()"
   ]
  },
  {
   "cell_type": "code",
   "execution_count": 79,
   "metadata": {},
   "outputs": [],
   "source": [
    "rmse_train = []\n",
    "rmse_test = []\n",
    "for i in range(50,100):\n",
    "    knn = KNeighborsRegressor(n_neighbors=i).fit(train_scale, y_train)\n",
    "    rmse_tr = np.sqrt(mean_squared_error(y_train, knn.predict(train_scale)))\n",
    "    rmse_te = np.sqrt(mean_squared_error(y_test, knn.predict(test_scale)))\n",
    "    rmse_train.append(rmse_tr)\n",
    "    rmse_test.append(rmse_te)\n",
    "%matplotlib qt\n",
    "plt.plot(range(50,100), rmse_train, label='RMSE of Train')\n",
    "plt.plot(range(50,100), rmse_test, label = 'RMSE of Test')\n",
    "plt.legend()\n",
    "plt.xlabel('Number neighbours')\n",
    "plt.ylabel('RMSE of the Model')\n",
    "plt.show()"
   ]
  },
  {
   "cell_type": "code",
   "execution_count": 80,
   "metadata": {},
   "outputs": [
    {
     "name": "stdout",
     "output_type": "stream",
     "text": [
      "RMSE of Train: 6.1128872271909325\n",
      "RMSE of Test: 6.618840106157361\n"
     ]
    }
   ],
   "source": [
    "final_model = KNeighborsRegressor(n_neighbors=75).fit(train_scale, y_train)\n",
    "pred_train = final_model.predict(train_scale)\n",
    "pred_test = final_model.predict(test_scale)\n",
    "print('RMSE of Train:', np.sqrt(mean_squared_error(y_train, pred_train)))\n",
    "print('RMSE of Test:', np.sqrt(mean_squared_error(y_test, pred_test)))"
   ]
  },
  {
   "cell_type": "code",
   "execution_count": 86,
   "metadata": {},
   "outputs": [
    {
     "data": {
      "text/plain": [
       "GridSearchCV(cv=RepeatedKFold(n_repeats=10, n_splits=10, random_state=0),\n",
       "             estimator=KNeighborsRegressor(),\n",
       "             param_grid={'algorithm': ['ball_tree', 'kd_tree', 'brute'],\n",
       "                         'n_neighbors': [1, 2, 3, 4, 5, 6, 7, 8, 9, 10, 11, 12,\n",
       "                                         13, 14, 15, 16, 17, 18, 19, 20, 21, 22,\n",
       "                                         23, 24, 25, 26, 27, 28, 29, 30, ...]})"
      ]
     },
     "execution_count": 86,
     "metadata": {},
     "output_type": "execute_result"
    }
   ],
   "source": [
    "from sklearn.model_selection import RepeatedKFold\n",
    "rk = RepeatedKFold(n_repeats=10, n_splits=10,random_state=0)\n",
    "from sklearn.model_selection import GridSearchCV\n",
    "knncv=KNeighborsRegressor()\n",
    "param_grid={'algorithm' : ['ball_tree', 'kd_tree', 'brute'],'n_neighbors':list(range(1,100))}\n",
    "grid_knn=GridSearchCV(estimator=knncv,param_grid=param_grid,cv=rk)\n",
    "grid_knn.fit(train_scale,y_train)"
   ]
  },
  {
   "cell_type": "code",
   "execution_count": 87,
   "metadata": {},
   "outputs": [
    {
     "data": {
      "text/plain": [
       "{'algorithm': 'ball_tree', 'n_neighbors': 2}"
      ]
     },
     "execution_count": 87,
     "metadata": {},
     "output_type": "execute_result"
    }
   ],
   "source": [
    "grid_knn.best_params_"
   ]
  },
  {
   "cell_type": "code",
   "execution_count": 91,
   "metadata": {},
   "outputs": [
    {
     "name": "stdout",
     "output_type": "stream",
     "text": [
      "RMSE of Train: 6.1128872271909325\n",
      "RMSE of Test: 6.618840106157361\n"
     ]
    }
   ],
   "source": [
    "final_model = KNeighborsRegressor(n_neighbors=75, algorithm='ball_tree').fit(train_scale, y_train)\n",
    "pred_train = final_model.predict(train_scale)\n",
    "pred_test = final_model.predict(test_scale)\n",
    "print('RMSE of Train:', np.sqrt(mean_squared_error(y_train, pred_train)))\n",
    "print('RMSE of Test:', np.sqrt(mean_squared_error(y_test, pred_test)))"
   ]
  },
  {
   "cell_type": "code",
   "execution_count": 90,
   "metadata": {},
   "outputs": [
    {
     "data": {
      "text/plain": [
       "-0.6439358883862605"
      ]
     },
     "execution_count": 90,
     "metadata": {},
     "output_type": "execute_result"
    }
   ],
   "source": [
    "5.6118235673809655-6.255759455767226"
   ]
  },
  {
   "cell_type": "code",
   "execution_count": 92,
   "metadata": {},
   "outputs": [
    {
     "data": {
      "text/plain": [
       "-0.5059528789664283"
      ]
     },
     "execution_count": 92,
     "metadata": {},
     "output_type": "execute_result"
    }
   ],
   "source": [
    "6.1128872271909325-6.618840106157361"
   ]
  },
  {
   "cell_type": "code",
   "execution_count": null,
   "metadata": {},
   "outputs": [],
   "source": []
  }
 ],
 "metadata": {
  "kernelspec": {
   "display_name": "Python 3",
   "language": "python",
   "name": "python3"
  },
  "language_info": {
   "codemirror_mode": {
    "name": "ipython",
    "version": 3
   },
   "file_extension": ".py",
   "mimetype": "text/x-python",
   "name": "python",
   "nbconvert_exporter": "python",
   "pygments_lexer": "ipython3",
   "version": "3.8.5"
  },
  "varInspector": {
   "cols": {
    "lenName": 16,
    "lenType": 16,
    "lenVar": 40
   },
   "kernels_config": {
    "python": {
     "delete_cmd_postfix": "",
     "delete_cmd_prefix": "del ",
     "library": "var_list.py",
     "varRefreshCmd": "print(var_dic_list())"
    },
    "r": {
     "delete_cmd_postfix": ") ",
     "delete_cmd_prefix": "rm(",
     "library": "var_list.r",
     "varRefreshCmd": "cat(var_dic_list()) "
    }
   },
   "types_to_exclude": [
    "module",
    "function",
    "builtin_function_or_method",
    "instance",
    "_Feature"
   ],
   "window_display": false
  }
 },
 "nbformat": 4,
 "nbformat_minor": 5
}
